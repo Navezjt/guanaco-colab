{
  "cells": [
    {
     "cell_type": "markdown",
     "metadata": {
      "id": "view-in-github"
     },
     "source": [
      "[![Open In Colab](https://colab.research.google.com/assets/colab-badge.svg)](https://colab.research.google.com/github/camenduru/guanaco-colab/blob/main/guanaco_33b.ipynb)"
     ]
    },
    {
      "cell_type": "code",
      "execution_count": null,
      "metadata": {
        "id": "6NBZCEmD8UYZ"
      },
      "outputs": [],
      "source": [
        "!git clone -b dev https://github.com/camenduru/guanaco-playground-tgi-hf\n",
        "%cd guanaco-playground-tgi-hf\n",
        "!app.py"
      ]
    }
  ],
  "metadata": {
    "language_info": {
      "name": "python"
    },
    "orig_nbformat": 4,
    "colab": {
      "provenance": [],
      "gpuType": "T4"
    },
    "accelerator": "GPU",
    "gpuClass": "standard"
  },
  "nbformat": 4,
  "nbformat_minor": 0
}